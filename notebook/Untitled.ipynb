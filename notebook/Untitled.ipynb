{
 "cells": [
  {
   "cell_type": "code",
   "execution_count": null,
   "id": "e7e9ce99",
   "metadata": {},
   "outputs": [],
   "source": [
    "import spotipy\n",
    "from spotipy.oauth2 import SpotifyClientCredentials\n",
    "from spotipy.oauth2 import SpotifyOAuth\n",
    "import spotipy.util as util"
   ]
  },
  {
   "cell_type": "code",
   "execution_count": null,
   "id": "7ebb8d55",
   "metadata": {},
   "outputs": [],
   "source": [
    "import pandas as pd\n",
    "from sklearn.metrics.pairwise import cosine_similarity\n",
    "from sklearn.preprocessing import MinMaxScaler"
   ]
  },
  {
   "cell_type": "code",
   "execution_count": null,
   "id": "4809cd6d",
   "metadata": {},
   "outputs": [],
   "source": [
    "from decouple import config"
   ]
  },
  {
   "cell_type": "code",
   "execution_count": null,
   "id": "a05c2001",
   "metadata": {},
   "outputs": [],
   "source": [
    "import joblib"
   ]
  },
  {
   "cell_type": "code",
   "execution_count": null,
   "id": "0f3f38cf",
   "metadata": {},
   "outputs": [],
   "source": [
    "playlist_DF = pd.read_csv('https://raw.githubusercontent.com/ruchitc/music-recommender-system/e16679907663fd3cee6e200cf5b20875717c182a/dataset/SpotifyFeatures.csv')"
   ]
  },
  {
   "cell_type": "code",
   "execution_count": null,
   "id": "41d3960f",
   "metadata": {},
   "outputs": [],
   "source": [
    "playlistDF_num = playlist_DF[['popularity', 'acousticness', 'danceability', 'duration_ms', 'energy', 'instrumentalness',\t'liveness',\t'loudness',\t'speechiness',\t'tempo',\t'valence']]\n",
    "playlistDF_text = playlist_DF[['genre', 'key', 'mode']]"
   ]
  },
  {
   "cell_type": "code",
   "execution_count": null,
   "id": "3c8bb2f4",
   "metadata": {},
   "outputs": [],
   "source": [
    "scaler = MinMaxScaler()\n",
    "num_df = pd.DataFrame(scaler.fit_transform(playlistDF_num), columns=playlistDF_num.columns)\n",
    "num_df.reset_index(drop = True, inplace = True)"
   ]
  },
  {
   "cell_type": "code",
   "execution_count": null,
   "id": "2a41b562",
   "metadata": {},
   "outputs": [],
   "source": [
    "text_df = pd.get_dummies(playlistDF_text, prefix=['genre', 'key', 'mode'])\n",
    "text_df.reset_index(drop = True, inplace = True)    "
   ]
  },
  {
   "cell_type": "code",
   "execution_count": null,
   "id": "ba0db343",
   "metadata": {},
   "outputs": [],
   "source": [
    "final_df = pd.concat([num_df, text_df], axis=1)\n",
    "final_df['track_id'] = playlist_DF['track_id'].values"
   ]
  },
  {
   "cell_type": "code",
   "execution_count": null,
   "id": "e1ded46b",
   "metadata": {},
   "outputs": [],
   "source": [
    "client_id = config(\"client_id\")\n",
    "client_secret = config(\"client_secret\")"
   ]
  },
  {
   "cell_type": "code",
   "execution_count": null,
   "id": "b4f36640",
   "metadata": {},
   "outputs": [],
   "source": [
    "scope = 'user-library-read'"
   ]
  },
  {
   "cell_type": "code",
   "execution_count": null,
   "id": "e5f04a85",
   "metadata": {},
   "outputs": [],
   "source": [
    "client_credentials_manager = SpotifyClientCredentials(client_id=client_id, client_secret=client_secret)\n",
    "sp = spotipy.Spotify(client_credentials_manager = client_credentials_manager)"
   ]
  },
  {
   "cell_type": "code",
   "execution_count": null,
   "id": "06033300",
   "metadata": {},
   "outputs": [],
   "source": [
    "playlist_URL = \"https://open.spotify.com/playlist/37i9dQZF1DXbTxeAdrVG2l?si=233815c496e54e41\"\n",
    "playlist_URI = playlist_URL.split(\"/\")[-1].split(\"?\")[0]"
   ]
  },
  {
   "cell_type": "code",
   "execution_count": null,
   "id": "9412398f",
   "metadata": {},
   "outputs": [],
   "source": [
    "playlist = pd.DataFrame()\n",
    "\n",
    "\n",
    "for ix, i in enumerate(sp.playlist(playlist_URI)['tracks']['items']):\n",
    "  #print(i['track']['artists'][0]['name'])\n",
    "  playlist.loc[ix, 'artist'] = i['track']['artists'][0]['name']\n",
    "  playlist.loc[ix, 'name'] = i['track']['name']\n",
    "  playlist.loc[ix, 'id'] = i['track']['id'] # ['uri'].split(':')[2]\n",
    "  playlist.loc[ix, 'url'] = i['track']['album']['images'][1]['url']\n",
    "  playlist.loc[ix, 'date_added'] = i['added_at']\n",
    "\n",
    "playlist['date_added'] = pd.to_datetime(playlist['date_added'])  \n",
    "    \n",
    "playlist = playlist[playlist['id'].isin(playlist_DF['track_id'].values)].sort_values('date_added',ascending = False)"
   ]
  },
  {
   "cell_type": "code",
   "execution_count": null,
   "id": "89ca1b2d",
   "metadata": {},
   "outputs": [],
   "source": [
    "complete_playlist = final_df[final_df['track_id'].isin(playlist['id'].values)]\n",
    "complete_not_in_playlist = final_df[~final_df['track_id'].isin(playlist['id'].values)]\n",
    "playlist_final = complete_playlist.drop(columns = \"track_id\")\n",
    "complete_playlist_summary_vector = playlist_final.sum(axis = 0)"
   ]
  },
  {
   "cell_type": "code",
   "execution_count": null,
   "id": "10ed78c0",
   "metadata": {},
   "outputs": [],
   "source": [
    "non_playlist_df = playlist_DF[playlist_DF['track_id'].isin(complete_not_in_playlist['track_id'].values)]\n",
    "non_playlist_df['cosine_sim'] = cosine_similarity(complete_not_in_playlist.drop('track_id', axis = 1).values, complete_playlist_summary_vector.values.reshape(1, -1))[:,0]\n",
    "non_playlist_df_top_20 = non_playlist_df.sort_values('cosine_sim',ascending = False).head(20)"
   ]
  }
 ],
 "metadata": {
  "kernelspec": {
   "display_name": "venv",
   "language": "python",
   "name": "venv"
  },
  "language_info": {
   "codemirror_mode": {
    "name": "ipython",
    "version": 3
   },
   "file_extension": ".py",
   "mimetype": "text/x-python",
   "name": "python",
   "nbconvert_exporter": "python",
   "pygments_lexer": "ipython3",
   "version": "3.10.5"
  }
 },
 "nbformat": 4,
 "nbformat_minor": 5
}
